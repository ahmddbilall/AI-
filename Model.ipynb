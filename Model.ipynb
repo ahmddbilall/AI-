{
 "cells": [
  {
   "cell_type": "code",
   "execution_count": 1,
   "metadata": {},
   "outputs": [
    {
     "name": "stdout",
     "output_type": "stream",
     "text": [
      "WARNING:tensorflow:From c:\\Users\\shame\\AppData\\Local\\Programs\\Python\\Python311\\Lib\\site-packages\\keras\\src\\losses.py:2976: The name tf.losses.sparse_softmax_cross_entropy is deprecated. Please use tf.compat.v1.losses.sparse_softmax_cross_entropy instead.\n",
      "\n"
     ]
    }
   ],
   "source": [
    "import pandas as pd\n",
    "import os\n",
    "from PIL import Image\n",
    "import tensorflow as tf\n",
    "from tensorflow.keras.models import Sequential\n",
    "from tensorflow.keras.layers import Dense, Dropout, Conv2D, MaxPool2D, Flatten\n",
    "import numpy as np\n",
    "import matplotlib.pyplot as plt\n",
    "from sklearn.model_selection import train_test_split"
   ]
  },
  {
   "cell_type": "code",
   "execution_count": 2,
   "metadata": {},
   "outputs": [],
   "source": [
    "mitosis_dir = 'softec-aic-2024/Training Images/Mitosis'\n",
    "normal_dir = 'softec-aic-2024/Training Images/Normal'\n",
    "\n",
    "img_size = (64, 64)\n",
    "\n",
    "X = []\n",
    "Y = []\n",
    "\n",
    "for i in range(0, 226):\n",
    "    filename = str(i) + '.jpg'\n",
    "\n",
    "    if filename in os.listdir(mitosis_dir):\n",
    "        label = 1\n",
    "    else:\n",
    "        label = 0\n",
    "\n",
    "    img = Image.open(os.path.join(mitosis_dir if label else normal_dir, filename))\n",
    "    img = img.resize(img_size)\n",
    "\n",
    "    img_array = np.array(img) / 255.0\n",
    "\n",
    "    X.append(img_array)\n",
    "    Y.append(label)"
   ]
  },
  {
   "cell_type": "code",
   "execution_count": 3,
   "metadata": {},
   "outputs": [],
   "source": [
    "X = np.array(X)\n",
    "Y = np.array(Y)\n",
    "\n",
    "X_train, X_test, Y_train, Y_test = train_test_split(X, Y, test_size=0.2, random_state=42)"
   ]
  },
  {
   "cell_type": "code",
   "execution_count": 4,
   "metadata": {},
   "outputs": [
    {
     "name": "stdout",
     "output_type": "stream",
     "text": [
      "WARNING:tensorflow:From c:\\Users\\shame\\AppData\\Local\\Programs\\Python\\Python311\\Lib\\site-packages\\keras\\src\\backend.py:873: The name tf.get_default_graph is deprecated. Please use tf.compat.v1.get_default_graph instead.\n",
      "\n",
      "WARNING:tensorflow:From c:\\Users\\shame\\AppData\\Local\\Programs\\Python\\Python311\\Lib\\site-packages\\keras\\src\\layers\\pooling\\max_pooling2d.py:161: The name tf.nn.max_pool is deprecated. Please use tf.nn.max_pool2d instead.\n",
      "\n"
     ]
    }
   ],
   "source": [
    "model = Sequential()\n",
    "model.add(Conv2D(16, (3, 3), activation='relu', input_shape=(64, 64, 3)))\n",
    "model.add(MaxPool2D())\n",
    "model.add(Conv2D(32, (3, 3), activation='relu'))\n",
    "model.add(MaxPool2D())\n",
    "model.add(Flatten())\n",
    "model.add(Dense(256, activation='relu'))\n",
    "model.add(Dropout(0.2))\n",
    "model.add(Dense(1, activation='sigmoid'))"
   ]
  },
  {
   "cell_type": "code",
   "execution_count": 5,
   "metadata": {},
   "outputs": [
    {
     "name": "stdout",
     "output_type": "stream",
     "text": [
      "WARNING:tensorflow:From c:\\Users\\shame\\AppData\\Local\\Programs\\Python\\Python311\\Lib\\site-packages\\keras\\src\\optimizers\\__init__.py:309: The name tf.train.Optimizer is deprecated. Please use tf.compat.v1.train.Optimizer instead.\n",
      "\n"
     ]
    }
   ],
   "source": [
    "model.compile(loss='binary_crossentropy', optimizer='adam', metrics=['accuracy'])"
   ]
  },
  {
   "cell_type": "code",
   "execution_count": 6,
   "metadata": {},
   "outputs": [
    {
     "name": "stdout",
     "output_type": "stream",
     "text": [
      "Epoch 1/20\n",
      "WARNING:tensorflow:From c:\\Users\\shame\\AppData\\Local\\Programs\\Python\\Python311\\Lib\\site-packages\\keras\\src\\utils\\tf_utils.py:492: The name tf.ragged.RaggedTensorValue is deprecated. Please use tf.compat.v1.ragged.RaggedTensorValue instead.\n",
      "\n",
      "WARNING:tensorflow:From c:\\Users\\shame\\AppData\\Local\\Programs\\Python\\Python311\\Lib\\site-packages\\keras\\src\\engine\\base_layer_utils.py:384: The name tf.executing_eagerly_outside_functions is deprecated. Please use tf.compat.v1.executing_eagerly_outside_functions instead.\n",
      "\n",
      "8/8 [==============================] - 7s 89ms/step - loss: 0.8156 - accuracy: 0.5442\n",
      "Epoch 2/20\n",
      "8/8 [==============================] - 1s 77ms/step - loss: 0.6395 - accuracy: 0.5885\n",
      "Epoch 3/20\n",
      "8/8 [==============================] - 1s 72ms/step - loss: 0.5520 - accuracy: 0.7522\n",
      "Epoch 4/20\n",
      "8/8 [==============================] - 1s 88ms/step - loss: 0.4643 - accuracy: 0.7965\n",
      "Epoch 5/20\n",
      "8/8 [==============================] - 1s 76ms/step - loss: 0.4882 - accuracy: 0.8142\n",
      "Epoch 6/20\n",
      "8/8 [==============================] - 1s 81ms/step - loss: 0.4534 - accuracy: 0.8230\n",
      "Epoch 7/20\n",
      "8/8 [==============================] - 1s 81ms/step - loss: 0.4490 - accuracy: 0.8097\n",
      "Epoch 8/20\n",
      "8/8 [==============================] - 1s 75ms/step - loss: 0.5194 - accuracy: 0.7478\n",
      "Epoch 9/20\n",
      "8/8 [==============================] - 1s 82ms/step - loss: 0.5395 - accuracy: 0.7743\n",
      "Epoch 10/20\n",
      "8/8 [==============================] - 1s 101ms/step - loss: 0.4470 - accuracy: 0.8540\n",
      "Epoch 11/20\n",
      "8/8 [==============================] - 1s 76ms/step - loss: 0.4284 - accuracy: 0.8363\n",
      "Epoch 12/20\n",
      "8/8 [==============================] - 1s 77ms/step - loss: 0.5805 - accuracy: 0.6947\n",
      "Epoch 13/20\n",
      "8/8 [==============================] - 1s 79ms/step - loss: 0.4323 - accuracy: 0.8451\n",
      "Epoch 14/20\n",
      "8/8 [==============================] - 1s 87ms/step - loss: 0.4374 - accuracy: 0.8319\n",
      "Epoch 15/20\n",
      "8/8 [==============================] - 1s 90ms/step - loss: 0.4421 - accuracy: 0.8363\n",
      "Epoch 16/20\n",
      "8/8 [==============================] - 1s 109ms/step - loss: 0.4446 - accuracy: 0.8142\n",
      "Epoch 17/20\n",
      "8/8 [==============================] - 1s 87ms/step - loss: 0.4225 - accuracy: 0.8496\n",
      "Epoch 18/20\n",
      "8/8 [==============================] - 1s 79ms/step - loss: 0.4302 - accuracy: 0.8319\n",
      "Epoch 19/20\n",
      "8/8 [==============================] - 1s 83ms/step - loss: 0.3857 - accuracy: 0.8628\n",
      "Epoch 20/20\n",
      "8/8 [==============================] - 1s 80ms/step - loss: 0.4046 - accuracy: 0.8496\n"
     ]
    }
   ],
   "source": [
    "history = model.fit(X, Y, epochs=20, batch_size=32)"
   ]
  },
  {
   "cell_type": "code",
   "execution_count": 7,
   "metadata": {},
   "outputs": [
    {
     "name": "stdout",
     "output_type": "stream",
     "text": [
      "2/2 [==============================] - 1s 36ms/step - loss: 0.4548 - accuracy: 0.8478\n",
      "Loss: 0.4547933042049408, Accuracy: 0.8478260636329651\n"
     ]
    }
   ],
   "source": [
    "loss, accuracy = model.evaluate(X_test, Y_test)\n",
    "print(f\"Loss: {loss}, Accuracy: {accuracy}\")"
   ]
  },
  {
   "cell_type": "code",
   "execution_count": null,
   "metadata": {},
   "outputs": [],
   "source": []
  },
  {
   "cell_type": "markdown",
   "metadata": {},
   "source": [
    "# Testing"
   ]
  },
  {
   "cell_type": "code",
   "execution_count": 10,
   "metadata": {},
   "outputs": [],
   "source": [
    "test_images = []\n",
    "for i in range(226,283):\n",
    "    filename = str(i) + '.jpg'\n",
    "    img = Image.open(os.path.join('softec-aic-2024/Testing Images', filename))\n",
    "    img = img.resize(img_size)\n",
    "    img_array = np.array(img) / 255.0\n",
    "    test_images.append(img_array)\n",
    "\n",
    "test_images = np.array(test_images)"
   ]
  },
  {
   "cell_type": "code",
   "execution_count": 11,
   "metadata": {},
   "outputs": [
    {
     "name": "stdout",
     "output_type": "stream",
     "text": [
      "2/2 [==============================] - 1s 31ms/step\n"
     ]
    }
   ],
   "source": [
    "predictions = model.predict(test_images)"
   ]
  },
  {
   "cell_type": "code",
   "execution_count": 13,
   "metadata": {},
   "outputs": [],
   "source": [
    "test = pd.read_csv('softec-aic-2024/Test.csv')\n",
    "test['Label'] = predictions\n",
    "test['Label'] = test['Label'].apply(lambda x: 'Mitosis' if x > 0.5 else 'Normal')"
   ]
  },
  {
   "cell_type": "code",
   "execution_count": 15,
   "metadata": {},
   "outputs": [],
   "source": [
    "test.to_csv('predtions.csv',index=False)"
   ]
  },
  {
   "cell_type": "markdown",
   "metadata": {},
   "source": []
  }
 ],
 "metadata": {
  "kernelspec": {
   "display_name": "Python 3",
   "language": "python",
   "name": "python3"
  },
  "language_info": {
   "codemirror_mode": {
    "name": "ipython",
    "version": 3
   },
   "file_extension": ".py",
   "mimetype": "text/x-python",
   "name": "python",
   "nbconvert_exporter": "python",
   "pygments_lexer": "ipython3",
   "version": "3.11.5"
  }
 },
 "nbformat": 4,
 "nbformat_minor": 2
}
