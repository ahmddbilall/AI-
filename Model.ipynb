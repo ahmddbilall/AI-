{
 "cells": [
  {
   "cell_type": "code",
   "execution_count": 1,
   "metadata": {},
   "outputs": [
    {
     "name": "stdout",
     "output_type": "stream",
     "text": [
      "WARNING:tensorflow:From c:\\Users\\shame\\AppData\\Local\\Programs\\Python\\Python311\\Lib\\site-packages\\keras\\src\\losses.py:2976: The name tf.losses.sparse_softmax_cross_entropy is deprecated. Please use tf.compat.v1.losses.sparse_softmax_cross_entropy instead.\n",
      "\n"
     ]
    }
   ],
   "source": [
    "import pandas as pd\n",
    "import os\n",
    "from PIL import Image\n",
    "import tensorflow as tf\n",
    "from tensorflow.keras.preprocessing.image import ImageDataGenerator\n",
    "from tensorflow.keras.models import Sequential\n",
    "from tensorflow.keras.layers import Dense, Dropout, Conv2D, MaxPool2D, Flatten"
   ]
  },
  {
   "cell_type": "code",
   "execution_count": 2,
   "metadata": {},
   "outputs": [],
   "source": [
    "import numpy as np"
   ]
  },
  {
   "cell_type": "code",
   "execution_count": 3,
   "metadata": {},
   "outputs": [],
   "source": [
    "# Load the CSV file containing image labels\n",
    "df = pd.read_csv('softec-aic-2024/Train.csv')\n",
    "\n",
    "# Define directories for mitosis and normal images\n",
    "mitosis_dir = 'softec-aic-2024/Training Images/Mitosis'\n",
    "normal_dir = 'softec-aic-2024/Training Images/Normal'\n",
    "\n",
    "# Define image size\n",
    "img_size = (64, 64)\n",
    "\n",
    "# Initialize empty lists for image data and labels\n",
    "X = []\n",
    "Y = []\n",
    "\n",
    "# Load and preprocess images\n",
    "for i in range(0, 226):\n",
    "    filename = str(i) + '.jpg'\n",
    "\n",
    "    # Check if image is in mitosis or normal folder\n",
    "    if filename in os.listdir(mitosis_dir):\n",
    "        label = 1\n",
    "    else:\n",
    "        label = 0\n",
    "\n",
    "    # Load image and resize\n",
    "    img = Image.open(os.path.join(mitosis_dir if label else normal_dir, filename))\n",
    "    img = img.resize(img_size)\n",
    "\n",
    "    # Convert image to numpy array and normalize\n",
    "    img_array = np.array(img) / 255.0\n",
    "\n",
    "    # Add image and label to lists\n",
    "    X.append(img_array)\n",
    "    Y.append(label)"
   ]
  },
  {
   "cell_type": "code",
   "execution_count": 4,
   "metadata": {},
   "outputs": [],
   "source": [
    "from sklearn.model_selection import train_test_split"
   ]
  },
  {
   "cell_type": "code",
   "execution_count": 5,
   "metadata": {},
   "outputs": [
    {
     "name": "stdout",
     "output_type": "stream",
     "text": [
      "WARNING:tensorflow:From c:\\Users\\shame\\AppData\\Local\\Programs\\Python\\Python311\\Lib\\site-packages\\keras\\src\\backend.py:873: The name tf.get_default_graph is deprecated. Please use tf.compat.v1.get_default_graph instead.\n",
      "\n",
      "WARNING:tensorflow:From c:\\Users\\shame\\AppData\\Local\\Programs\\Python\\Python311\\Lib\\site-packages\\keras\\src\\layers\\pooling\\max_pooling2d.py:161: The name tf.nn.max_pool is deprecated. Please use tf.nn.max_pool2d instead.\n",
      "\n",
      "WARNING:tensorflow:From c:\\Users\\shame\\AppData\\Local\\Programs\\Python\\Python311\\Lib\\site-packages\\keras\\src\\optimizers\\__init__.py:309: The name tf.train.Optimizer is deprecated. Please use tf.compat.v1.train.Optimizer instead.\n",
      "\n",
      "Epoch 1/10\n",
      "WARNING:tensorflow:From c:\\Users\\shame\\AppData\\Local\\Programs\\Python\\Python311\\Lib\\site-packages\\keras\\src\\utils\\tf_utils.py:492: The name tf.ragged.RaggedTensorValue is deprecated. Please use tf.compat.v1.ragged.RaggedTensorValue instead.\n",
      "\n",
      "WARNING:tensorflow:From c:\\Users\\shame\\AppData\\Local\\Programs\\Python\\Python311\\Lib\\site-packages\\keras\\src\\engine\\base_layer_utils.py:384: The name tf.executing_eagerly_outside_functions is deprecated. Please use tf.compat.v1.executing_eagerly_outside_functions instead.\n",
      "\n",
      "8/8 [==============================] - 10s 299ms/step - loss: 0.7904 - accuracy: 0.5619 - val_loss: 0.5455 - val_accuracy: 0.8261\n",
      "Epoch 2/10\n",
      "8/8 [==============================] - 1s 124ms/step - loss: 0.5000 - accuracy: 0.8274 - val_loss: 0.4629 - val_accuracy: 0.8261\n",
      "Epoch 3/10\n",
      "8/8 [==============================] - 1s 126ms/step - loss: 0.5230 - accuracy: 0.7611 - val_loss: 0.8526 - val_accuracy: 0.5435\n",
      "Epoch 4/10\n",
      "8/8 [==============================] - 1s 129ms/step - loss: 0.5907 - accuracy: 0.7212 - val_loss: 0.5101 - val_accuracy: 0.7609\n",
      "Epoch 5/10\n",
      "8/8 [==============================] - 1s 125ms/step - loss: 0.4977 - accuracy: 0.7655 - val_loss: 0.5252 - val_accuracy: 0.7826\n",
      "Epoch 6/10\n",
      "8/8 [==============================] - 1s 116ms/step - loss: 0.4545 - accuracy: 0.8363 - val_loss: 0.4618 - val_accuracy: 0.8261\n",
      "Epoch 7/10\n",
      "8/8 [==============================] - 1s 115ms/step - loss: 0.4425 - accuracy: 0.8363 - val_loss: 0.5549 - val_accuracy: 0.7826\n",
      "Epoch 8/10\n",
      "8/8 [==============================] - 1s 157ms/step - loss: 0.4903 - accuracy: 0.8053 - val_loss: 0.4517 - val_accuracy: 0.8043\n",
      "Epoch 9/10\n",
      "8/8 [==============================] - 1s 116ms/step - loss: 0.4530 - accuracy: 0.8407 - val_loss: 0.4734 - val_accuracy: 0.8261\n",
      "Epoch 10/10\n",
      "8/8 [==============================] - 1s 120ms/step - loss: 0.4326 - accuracy: 0.8407 - val_loss: 0.4562 - val_accuracy: 0.8261\n",
      "2/2 [==============================] - 0s 42ms/step - loss: 0.4562 - accuracy: 0.8261\n",
      "Loss: 0.45617231726646423, Accuracy: 0.8260869383811951\n"
     ]
    }
   ],
   "source": [
    "# Convert lists to numpy arrays\n",
    "X = np.array(X)\n",
    "Y = np.array(Y)\n",
    "\n",
    "# Split data into training and testing sets\n",
    "X_train, X_test, Y_train, Y_test = train_test_split(X, Y, test_size=0.2, random_state=42)\n",
    "\n",
    "# Define the model\n",
    "model = Sequential()\n",
    "model.add(Conv2D(16, (3, 3), activation='relu', input_shape=(64, 64, 3)))\n",
    "model.add(MaxPool2D())\n",
    "model.add(Conv2D(32, (3, 3), activation='relu'))\n",
    "model.add(MaxPool2D())\n",
    "model.add(Flatten())\n",
    "model.add(Dense(256, activation='relu'))\n",
    "model.add(Dropout(0.2))\n",
    "model.add(Dense(1, activation='sigmoid'))\n",
    "\n",
    "# Compile the model\n",
    "model.compile(loss='binary_crossentropy', optimizer='adam', metrics=['accuracy'])\n",
    "\n",
    "# Train the model\n",
    "model.fit(X, Y, epochs=10, batch_size=32, validation_data=(X_test, Y_test))\n",
    "#model.fit(X_train, Y_train, epochs=10, batch_size=32, validation_data=(X_test, Y_test))\n",
    "\n",
    "# Evaluate the model\n",
    "loss, accuracy = model.evaluate(X_test, Y_test)\n",
    "print(f\"Loss: {loss}, Accuracy: {accuracy}\")"
   ]
  },
  {
   "cell_type": "code",
   "execution_count": 6,
   "metadata": {},
   "outputs": [
    {
     "name": "stdout",
     "output_type": "stream",
     "text": [
      "2/2 [==============================] - 1s 31ms/step\n"
     ]
    }
   ],
   "source": [
    "# Load the test images\n",
    "test_images = []\n",
    "for i in range(226,283):\n",
    "    filename = str(i) + '.jpg'\n",
    "    img = Image.open(os.path.join('softec-aic-2024/Testing Images', filename))\n",
    "    img = img.resize(img_size)\n",
    "    img_array = np.array(img) / 255.0\n",
    "    test_images.append(img_array)\n",
    "\n",
    "# Convert the test images to a NumPy array\n",
    "test_images = np.array(test_images)\n",
    "\n",
    "# Predict the labels for the test images\n",
    "predictions = model.predict(test_images)\n"
   ]
  },
  {
   "cell_type": "code",
   "execution_count": 7,
   "metadata": {},
   "outputs": [],
   "source": [
    "test = pd.read_csv('softec-aic-2024/Test.csv')\n",
    "test['Label'] = predictions\n",
    "\n",
    "# Convert probability predictions to class labels\n",
    "test['Label'] = test['Label'].apply(lambda x: 'Mitosis' if x > 0.5 else 'Normal')\n"
   ]
  },
  {
   "cell_type": "code",
   "execution_count": 8,
   "metadata": {},
   "outputs": [],
   "source": [
    "test.to_csv('predtions.csv')"
   ]
  },
  {
   "cell_type": "code",
   "execution_count": null,
   "metadata": {},
   "outputs": [],
   "source": []
  },
  {
   "cell_type": "code",
   "execution_count": null,
   "metadata": {},
   "outputs": [],
   "source": []
  },
  {
   "cell_type": "code",
   "execution_count": null,
   "metadata": {},
   "outputs": [],
   "source": []
  },
  {
   "cell_type": "code",
   "execution_count": null,
   "metadata": {},
   "outputs": [],
   "source": []
  },
  {
   "cell_type": "markdown",
   "metadata": {},
   "source": []
  }
 ],
 "metadata": {
  "kernelspec": {
   "display_name": "Python 3",
   "language": "python",
   "name": "python3"
  },
  "language_info": {
   "codemirror_mode": {
    "name": "ipython",
    "version": 3
   },
   "file_extension": ".py",
   "mimetype": "text/x-python",
   "name": "python",
   "nbconvert_exporter": "python",
   "pygments_lexer": "ipython3",
   "version": "3.11.5"
  }
 },
 "nbformat": 4,
 "nbformat_minor": 2
}
