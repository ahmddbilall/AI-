{
  "cells": [
    {
      "cell_type": "code",
      "execution_count": 1,
      "metadata": {
        "colab": {
          "base_uri": "https://localhost:8080/"
        },
        "id": "CLCMpkyhm10R",
        "outputId": "b227d021-c70b-49c6-e860-6ec508457596"
      },
      "outputs": [
        {
          "output_type": "stream",
          "name": "stdout",
          "text": [
            "Cloning into 'AI_Competition_Softec'...\n",
            "remote: Enumerating objects: 364, done.\u001b[K\n",
            "remote: Counting objects: 100% (4/4), done.\u001b[K\n",
            "remote: Compressing objects: 100% (4/4), done.\u001b[K\n",
            "remote: Total 364 (delta 0), reused 3 (delta 0), pack-reused 360\u001b[K\n",
            "Receiving objects: 100% (364/364), 503.56 MiB | 25.58 MiB/s, done.\n",
            "Resolving deltas: 100% (19/19), done.\n",
            "Updating files: 100% (292/292), done.\n"
          ]
        }
      ],
      "source": [
        "!git clone https://github.com/ahmddbilall/AI_Competition_Softec.git"
      ]
    },
    {
      "cell_type": "code",
      "execution_count": 2,
      "metadata": {
        "id": "XO7YnllxldwD"
      },
      "outputs": [],
      "source": [
        "\n",
        "import matplotlib.pyplot as plt\n",
        "import numpy as np\n",
        "import PIL\n",
        "import tensorflow as tf\n",
        "from tensorflow import keras\n",
        "from tensorflow.keras import layers\n",
        "from tensorflow.keras.models import Sequential"
      ]
    },
    {
      "cell_type": "code",
      "execution_count": 3,
      "metadata": {
        "id": "_HMdueH5l0Z9"
      },
      "outputs": [],
      "source": [
        "batch_size=32\n",
        "img_height=180\n",
        "img_width=180\n"
      ]
    },
    {
      "cell_type": "code",
      "execution_count": 5,
      "metadata": {
        "id": "-CtKg4oWlqei",
        "colab": {
          "base_uri": "https://localhost:8080/"
        },
        "outputId": "fc310c80-998b-44b4-f903-256156dfb1ca"
      },
      "outputs": [
        {
          "output_type": "stream",
          "name": "stdout",
          "text": [
            "Found 226 files belonging to 2 classes.\n",
            "Using 181 files for training.\n"
          ]
        }
      ],
      "source": [
        "train_ds=tf.keras.utils.image_dataset_from_directory(\n",
        "    '/content/AI_Competition_Softec/softec-aic-2024/Training Images',\n",
        "    validation_split=0.2,\n",
        "    subset='training',\n",
        "    seed=123,\n",
        "    image_size=(img_height,img_width),\n",
        "    batch_size=batch_size\n",
        "\n",
        "\n",
        ")"
      ]
    },
    {
      "cell_type": "code",
      "execution_count": 6,
      "metadata": {
        "colab": {
          "base_uri": "https://localhost:8080/"
        },
        "id": "7AtxjJrflvq6",
        "outputId": "7c397849-1c24-4a24-9353-fdd39f4d444a"
      },
      "outputs": [
        {
          "output_type": "stream",
          "name": "stdout",
          "text": [
            "Found 226 files belonging to 2 classes.\n",
            "Using 45 files for validation.\n"
          ]
        }
      ],
      "source": [
        "val_ds=tf.keras.utils.image_dataset_from_directory(\n",
        "    '/content/AI_Competition_Softec/softec-aic-2024/Training Images',\n",
        "    validation_split=0.2,\n",
        "    subset='validation',\n",
        "    seed=123,\n",
        "    image_size=(img_height,img_width),\n",
        "    batch_size=batch_size\n",
        "\n",
        "\n",
        ")"
      ]
    },
    {
      "cell_type": "code",
      "execution_count": 8,
      "metadata": {
        "colab": {
          "base_uri": "https://localhost:8080/"
        },
        "id": "x6EbLI7Il8_d",
        "outputId": "96986abe-fdc9-449a-bfee-e5325efbac77"
      },
      "outputs": [
        {
          "output_type": "stream",
          "name": "stdout",
          "text": [
            "['Mitosis', 'Normal']\n"
          ]
        }
      ],
      "source": [
        "class_names=train_ds.class_names\n",
        "print(class_names)\n"
      ]
    },
    {
      "cell_type": "code",
      "source": [
        "## visualizing\n",
        "import matplotlib.pyplot as plt\n",
        "plt.figure(figsize=(10,10))\n",
        "for images,labels in train_ds.take(1):\n",
        "  for i in range(9):\n",
        "    ax=plt.subplot(3,3,i+1)\n",
        "    plt.imshow(images[i].numpy().astype(\"uint8\"))\n",
        "    plt.title(class_names[labels[i]])\n",
        "    plt.axis(\"off\")"
      ],
      "metadata": {
        "id": "pEyKNCeKoSH4"
      },
      "execution_count": null,
      "outputs": []
    },
    {
      "cell_type": "code",
      "source": [
        "for image_batch,labels_batch in train_ds:\n",
        "  print(image_batch.shape)\n",
        "  print(labels_batch.shape)\n",
        "  break"
      ],
      "metadata": {
        "colab": {
          "base_uri": "https://localhost:8080/"
        },
        "id": "oGuL4-Fmo0Nl",
        "outputId": "cd6022e2-7d33-44f0-f1ac-7fc29969157f"
      },
      "execution_count": 12,
      "outputs": [
        {
          "output_type": "stream",
          "name": "stdout",
          "text": [
            "(32, 180, 180, 3)\n",
            "(32,)\n"
          ]
        }
      ]
    },
    {
      "cell_type": "code",
      "source": [
        "AUTOTUNE=tf.data.AUTOTUNE\n",
        "trian_ds=train_ds.cache().shuffle(1000).prefetch(buffer_size=AUTOTUNE)\n",
        "val_ds=val_ds.cache().prefetch(buffer_size=AUTOTUNE)"
      ],
      "metadata": {
        "id": "oPw8p5AFpE8_"
      },
      "execution_count": 14,
      "outputs": []
    },
    {
      "cell_type": "code",
      "source": [
        "normalization_layer = layers.Rescaling(1./255)\n",
        "normalized_ds = train_ds.map(lambda x, y: (normalization_layer(x), y))\n",
        "image_batch,labels_batch=next(iter(normalized_ds))\n",
        "first_image=image_batch[0]\n",
        "print(np.min(first_image),np.max(first_image))"
      ],
      "metadata": {
        "colab": {
          "base_uri": "https://localhost:8080/"
        },
        "id": "JfiHtmfgpdPf",
        "outputId": "0a25afe1-07b5-49ff-8c57-e6070dde7c89"
      },
      "execution_count": 19,
      "outputs": [
        {
          "output_type": "stream",
          "name": "stdout",
          "text": [
            "0.0 1.0\n"
          ]
        }
      ]
    },
    {
      "cell_type": "code",
      "source": [
        "num_classes = len(class_names)\n",
        "\n",
        "model = Sequential([\n",
        "  layers.Rescaling(1./255, input_shape=(img_height, img_width, 3)),\n",
        "  layers.Conv2D(16, 3, padding='same', activation='relu'),\n",
        "  layers.MaxPooling2D(),\n",
        "  layers.Conv2D(32, 3, padding='same', activation='relu'),\n",
        "  layers.MaxPooling2D(),\n",
        "  layers.Conv2D(64, 3, padding='same', activation='relu'),\n",
        "  layers.MaxPooling2D(),\n",
        "  layers.Flatten(),\n",
        "  layers.Dense(128, activation='relu'),\n",
        "  layers.Dense(num_classes)\n",
        "])"
      ],
      "metadata": {
        "id": "_9tsDqjNqAko"
      },
      "execution_count": 21,
      "outputs": []
    },
    {
      "cell_type": "code",
      "source": [
        "model.compile(optimizer='adam',\n",
        "              loss=tf.keras.losses.SparseCategoricalCrossentropy(from_logits=True),\n",
        "              metrics=['accuracy'])\n",
        "model.summary()"
      ],
      "metadata": {
        "colab": {
          "base_uri": "https://localhost:8080/"
        },
        "id": "mgagtcYSqJKt",
        "outputId": "36484790-e9c3-49b2-c180-27fcc3291ed3"
      },
      "execution_count": 24,
      "outputs": [
        {
          "output_type": "stream",
          "name": "stdout",
          "text": [
            "Model: \"sequential_1\"\n",
            "_________________________________________________________________\n",
            " Layer (type)                Output Shape              Param #   \n",
            "=================================================================\n",
            " rescaling_3 (Rescaling)     (None, 180, 180, 3)       0         \n",
            "                                                                 \n",
            " conv2d_3 (Conv2D)           (None, 180, 180, 16)      448       \n",
            "                                                                 \n",
            " max_pooling2d_3 (MaxPoolin  (None, 90, 90, 16)        0         \n",
            " g2D)                                                            \n",
            "                                                                 \n",
            " conv2d_4 (Conv2D)           (None, 90, 90, 32)        4640      \n",
            "                                                                 \n",
            " max_pooling2d_4 (MaxPoolin  (None, 45, 45, 32)        0         \n",
            " g2D)                                                            \n",
            "                                                                 \n",
            " conv2d_5 (Conv2D)           (None, 45, 45, 64)        18496     \n",
            "                                                                 \n",
            " max_pooling2d_5 (MaxPoolin  (None, 22, 22, 64)        0         \n",
            " g2D)                                                            \n",
            "                                                                 \n",
            " flatten_1 (Flatten)         (None, 30976)             0         \n",
            "                                                                 \n",
            " dense_2 (Dense)             (None, 128)               3965056   \n",
            "                                                                 \n",
            " dense_3 (Dense)             (None, 2)                 258       \n",
            "                                                                 \n",
            "=================================================================\n",
            "Total params: 3988898 (15.22 MB)\n",
            "Trainable params: 3988898 (15.22 MB)\n",
            "Non-trainable params: 0 (0.00 Byte)\n",
            "_________________________________________________________________\n"
          ]
        }
      ]
    },
    {
      "cell_type": "code",
      "source": [
        "epochs=10\n",
        "history = model.fit(\n",
        "  train_ds,\n",
        "  validation_data=val_ds,\n",
        "  epochs=epochs\n",
        ")"
      ],
      "metadata": {
        "colab": {
          "base_uri": "https://localhost:8080/"
        },
        "id": "NTKFrXVjqQNl",
        "outputId": "75099c33-e48c-4c88-b90a-937689171c8b"
      },
      "execution_count": 25,
      "outputs": [
        {
          "output_type": "stream",
          "name": "stdout",
          "text": [
            "Epoch 1/10\n",
            "6/6 [==============================] - 21s 932ms/step - loss: 0.9729 - accuracy: 0.5525 - val_loss: 0.5466 - val_accuracy: 0.6889\n",
            "Epoch 2/10\n",
            "6/6 [==============================] - 12s 35ms/step - loss: 0.5915 - accuracy: 0.6575 - val_loss: 0.4735 - val_accuracy: 0.7778\n",
            "Epoch 3/10\n",
            "6/6 [==============================] - 11s 39ms/step - loss: 0.4726 - accuracy: 0.8011 - val_loss: 0.4299 - val_accuracy: 0.8444\n",
            "Epoch 4/10\n",
            "6/6 [==============================] - 11s 34ms/step - loss: 0.4400 - accuracy: 0.8343 - val_loss: 0.4233 - val_accuracy: 0.8444\n",
            "Epoch 5/10\n",
            "6/6 [==============================] - 12s 34ms/step - loss: 0.4599 - accuracy: 0.8066 - val_loss: 0.4303 - val_accuracy: 0.7778\n",
            "Epoch 6/10\n",
            "6/6 [==============================] - 12s 36ms/step - loss: 0.4284 - accuracy: 0.8398 - val_loss: 0.4106 - val_accuracy: 0.8444\n",
            "Epoch 7/10\n",
            "6/6 [==============================] - 12s 35ms/step - loss: 0.3853 - accuracy: 0.8564 - val_loss: 0.4122 - val_accuracy: 0.8444\n",
            "Epoch 8/10\n",
            "6/6 [==============================] - 12s 35ms/step - loss: 0.3869 - accuracy: 0.8674 - val_loss: 0.4662 - val_accuracy: 0.8000\n",
            "Epoch 9/10\n",
            "6/6 [==============================] - 12s 34ms/step - loss: 0.4687 - accuracy: 0.7956 - val_loss: 0.4716 - val_accuracy: 0.8000\n",
            "Epoch 10/10\n",
            "6/6 [==============================] - 11s 36ms/step - loss: 0.4176 - accuracy: 0.8619 - val_loss: 0.4203 - val_accuracy: 0.8444\n"
          ]
        }
      ]
    },
    {
      "cell_type": "code",
      "source": [
        "\n",
        "\n",
        "# Specify the path where you want to save the model\n",
        "model_path = '/content/AI_Competition_Softec/softec-aic-2024/model.h5'\n",
        "\n",
        "# Save the model to the specified path\n",
        "model.save(model_path)"
      ],
      "metadata": {
        "colab": {
          "base_uri": "https://localhost:8080/"
        },
        "id": "En2ntu8_sp2S",
        "outputId": "bd0c307e-ac7a-4424-fd6a-aa1fe74a049f"
      },
      "execution_count": 30,
      "outputs": [
        {
          "output_type": "stream",
          "name": "stderr",
          "text": [
            "/usr/local/lib/python3.10/dist-packages/keras/src/engine/training.py:3103: UserWarning: You are saving your model as an HDF5 file via `model.save()`. This file format is considered legacy. We recommend using instead the native Keras format, e.g. `model.save('my_model.keras')`.\n",
            "  saving_api.save_model(\n"
          ]
        }
      ]
    },
    {
      "cell_type": "code",
      "source": [
        "acc = history.history['accuracy']\n",
        "val_acc = history.history['val_accuracy']\n",
        "\n",
        "loss = history.history['loss']\n",
        "val_loss = history.history['val_loss']\n",
        "\n",
        "epochs_range = range(epochs)\n",
        "\n",
        "plt.figure(figsize=(8, 8))\n",
        "plt.subplot(1, 2, 1)\n",
        "plt.plot(epochs_range, acc, label='Training Accuracy')\n",
        "plt.plot(epochs_range, val_acc, label='Validation Accuracy')\n",
        "plt.legend(loc='lower right')\n",
        "plt.title('Training and Validation Accuracy')\n",
        "\n",
        "plt.subplot(1, 2, 2)\n",
        "plt.plot(epochs_range, loss, label='Training Loss')\n",
        "plt.plot(epochs_range, val_loss, label='Validation Loss')\n",
        "plt.legend(loc='upper right')\n",
        "plt.title('Training and Validation Loss')\n",
        "plt.show()"
      ],
      "metadata": {
        "colab": {
          "base_uri": "https://localhost:8080/",
          "height": 647
        },
        "id": "-Qizy8H6qWWG",
        "outputId": "a0213697-7246-440d-e4f3-9d6b5284cc23"
      },
      "execution_count": 27,
      "outputs": [
        {
          "output_type": "display_data",
          "data": {
            "text/plain": [
              "<Figure size 800x800 with 2 Axes>"
            ],
            "image/png": "[encoded data removed]"
          },
          "metadata": {}
        }
      ]
    },
    {
      "cell_type": "code",
      "source": [
        "import os\n",
        "import tensorflow as tf\n",
        "import numpy as np\n",
        "\n",
        "folder_path = \"/content/AI_Competition_Softec/softec-aic-2024/Testing Images\"\n",
        "\n",
        "\n",
        "image_files = [os.path.join(folder_path, file) for file in os.listdir(folder_path) if file.endswith(\".jpg\")]\n",
        "\n",
        "\n",
        "model = tf.keras.models.load_model('/content/AI_Competition_Softec/softec-aic-2024/model.h5')\n",
        "\n",
        "\n",
        "img_height, img_width = 180,180\n",
        "\n",
        "predictions = []\n",
        "\n",
        "\n",
        "for image_file in image_files:\n",
        "\n",
        "    img = tf.keras.utils.load_img(image_file, target_size=(img_height, img_width))\n",
        "    img_array = tf.keras.utils.img_to_array(img)\n",
        "    img_array = tf.expand_dims(img_array, 0)\n",
        "\n",
        "    # Make predictions\n",
        "    prediction = model.predict(img_array)\n",
        "\n",
        "\n",
        "    prediction_label = \"Mitosis\" if prediction[0][0] > 0.5 else \"Normal\"\n",
        "\n",
        "    predictions.append(prediction_label)\n",
        "\n",
        "\n",
        "predictions_array = np.array(predictions)\n",
        "\n",
        "print(predictions_array)\n"
      ],
      "metadata": {
        "colab": {
          "base_uri": "https://localhost:8080/"
        },
        "id": "lcX0tPMbq2mk",
        "outputId": "a50d3f00-44cc-4ec6-9f3a-b805942a5caa"
      },
      "execution_count": 34,
      "outputs": [
        {
          "output_type": "stream",
          "name": "stdout",
          "text": [
            "1/1 [==============================] - 0s 79ms/step\n",
            "1/1 [==============================] - 0s 19ms/step\n",
            "1/1 [==============================] - 0s 21ms/step\n",
            "1/1 [==============================] - 0s 20ms/step\n",
            "1/1 [==============================] - 0s 19ms/step\n",
            "1/1 [==============================] - 0s 20ms/step\n",
            "1/1 [==============================] - 0s 19ms/step\n",
            "1/1 [==============================] - 0s 21ms/step\n",
            "1/1 [==============================] - 0s 20ms/step\n",
            "1/1 [==============================] - 0s 18ms/step\n",
            "1/1 [==============================] - 0s 20ms/step\n",
            "1/1 [==============================] - 0s 23ms/step\n",
            "1/1 [==============================] - 0s 22ms/step\n",
            "1/1 [==============================] - 0s 18ms/step\n",
            "1/1 [==============================] - 0s 20ms/step\n",
            "1/1 [==============================] - 0s 24ms/step\n",
            "1/1 [==============================] - 0s 25ms/step\n",
            "1/1 [==============================] - 0s 20ms/step\n",
            "1/1 [==============================] - 0s 21ms/step\n",
            "1/1 [==============================] - 0s 19ms/step\n",
            "1/1 [==============================] - 0s 20ms/step\n",
            "1/1 [==============================] - 0s 20ms/step\n",
            "1/1 [==============================] - 0s 20ms/step\n",
            "1/1 [==============================] - 0s 21ms/step\n",
            "1/1 [==============================] - 0s 20ms/step\n",
            "1/1 [==============================] - 0s 20ms/step\n",
            "1/1 [==============================] - 0s 28ms/step\n",
            "1/1 [==============================] - 0s 21ms/step\n",
            "1/1 [==============================] - 0s 26ms/step\n",
            "1/1 [==============================] - 0s 20ms/step\n",
            "1/1 [==============================] - 0s 18ms/step\n",
            "1/1 [==============================] - 0s 20ms/step\n",
            "1/1 [==============================] - 0s 19ms/step\n",
            "1/1 [==============================] - 0s 20ms/step\n",
            "1/1 [==============================] - 0s 19ms/step\n",
            "1/1 [==============================] - 0s 19ms/step\n",
            "1/1 [==============================] - 0s 23ms/step\n",
            "1/1 [==============================] - 0s 19ms/step\n",
            "1/1 [==============================] - 0s 20ms/step\n",
            "1/1 [==============================] - 0s 24ms/step\n",
            "1/1 [==============================] - 0s 20ms/step\n",
            "1/1 [==============================] - 0s 19ms/step\n",
            "1/1 [==============================] - 0s 20ms/step\n",
            "1/1 [==============================] - 0s 19ms/step\n",
            "1/1 [==============================] - 0s 20ms/step\n",
            "1/1 [==============================] - 0s 19ms/step\n",
            "1/1 [==============================] - 0s 19ms/step\n",
            "1/1 [==============================] - 0s 20ms/step\n",
            "1/1 [==============================] - 0s 21ms/step\n",
            "1/1 [==============================] - 0s 21ms/step\n",
            "1/1 [==============================] - 0s 19ms/step\n",
            "1/1 [==============================] - 0s 20ms/step\n",
            "1/1 [==============================] - 0s 19ms/step\n",
            "1/1 [==============================] - 0s 18ms/step\n",
            "1/1 [==============================] - 0s 19ms/step\n",
            "1/1 [==============================] - 0s 21ms/step\n",
            "1/1 [==============================] - 0s 21ms/step\n",
            "['Mitosis' 'Mitosis' 'Normal' 'Normal' 'Normal' 'Mitosis' 'Normal'\n",
            " 'Normal' 'Mitosis' 'Mitosis' 'Normal' 'Normal' 'Normal' 'Normal' 'Normal'\n",
            " 'Normal' 'Mitosis' 'Normal' 'Mitosis' 'Normal' 'Mitosis' 'Normal'\n",
            " 'Mitosis' 'Normal' 'Normal' 'Normal' 'Mitosis' 'Normal' 'Mitosis'\n",
            " 'Mitosis' 'Mitosis' 'Normal' 'Mitosis' 'Mitosis' 'Mitosis' 'Normal'\n",
            " 'Mitosis' 'Normal' 'Normal' 'Normal' 'Normal' 'Normal' 'Mitosis'\n",
            " 'Mitosis' 'Mitosis' 'Mitosis' 'Normal' 'Normal' 'Normal' 'Mitosis'\n",
            " 'Normal' 'Normal' 'Normal' 'Normal' 'Mitosis' 'Normal' 'Normal']\n"
          ]
        }
      ]
    },
    {
      "cell_type": "code",
      "source": [
        "import pandas as pd\n",
        "\n",
        "test = pd.read_csv('/content/AI_Competition_Softec/softec-aic-2024/Test.csv')\n",
        "test['Label'] = predictions\n",
        "\n",
        "# Convert probability predictions to class labels\n",
        "\n",
        "test.to_csv('predictions.csv')"
      ],
      "metadata": {
        "id": "68ifZJamtoUL"
      },
      "execution_count": 36,
      "outputs": []
    }
  ],
  "metadata": {
    "colab": {
      "provenance": [],
      "gpuType": "T4"
    },
    "kernelspec": {
      "display_name": "Python 3",
      "name": "python3"
    },
    "language_info": {
      "name": "python"
    },
    "accelerator": "GPU"
  },
  "nbformat": 4,
  "nbformat_minor": 0
}